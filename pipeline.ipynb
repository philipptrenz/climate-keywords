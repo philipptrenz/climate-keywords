{
 "cells": [
  {
   "cell_type": "code",
   "execution_count": 1,
   "metadata": {},
   "outputs": [],
   "source": [
    "from corpora_processing import KeyPhraseExtractor\n",
    "from typing import List, Union"
   ]
  },
  {
   "cell_type": "code",
   "execution_count": 2,
   "metadata": {},
   "outputs": [],
   "source": [
    "from utils import ConfigLoader, Corpus, Keyword, KeywordType, Language, KeywordTranslator, CorpusFilter"
   ]
  },
  {
   "cell_type": "code",
   "execution_count": 3,
   "metadata": {},
   "outputs": [],
   "source": [
    "config = ConfigLoader.get_config()"
   ]
  },
  {
   "cell_type": "code",
   "execution_count": 4,
   "metadata": {},
   "outputs": [],
   "source": [
    "kwt = KeywordTranslator(cache_file=config[\"translator\"][\"cache_file\"])"
   ]
  },
  {
   "cell_type": "code",
   "execution_count": 5,
   "metadata": {},
   "outputs": [],
   "source": [
    "corpora: List[Corpus] = [\n",
    "    Corpus(source=config[\"corpora\"][\"bundestag_corpus\"], name=\"bundestag\", language=Language.DE),\n",
    "    Corpus(source=config[\"corpora\"][\"abstract_corpus\"], name=\"abstract\", language=Language.EN),\n",
    "    Corpus(source=config[\"corpora\"][\"sustainability_corpus\"], name=\"sustainability\", language=Language.EN)\n",
    "]"
   ]
  },
  {
   "cell_type": "code",
   "execution_count": 8,
   "metadata": {},
   "outputs": [
    {
     "name": "stderr",
     "output_type": "stream",
     "text": [
      "Filtering 'bundestag' corpus : 100%|████████████████████████████████████████████████████| 877973/877973 [00:26<00:00, 33155.73it/s]\n"
     ]
    },
    {
     "name": "stdout",
     "output_type": "stream",
     "text": [
      "bundestag: 298 documents (1987, 1988, 1989, 1990, 1991, 1992, 1993, 1994, 1995, 1996, 1997, 1998, 1999, 2000, 2002, 2003, 2004, 2008, 2009, 2011, 2012, 2014, 2015, 2016, 2018, 2019)\n"
     ]
    },
    {
     "name": "stderr",
     "output_type": "stream",
     "text": [
      "Filtering 'abstract' corpus : 100%|█████████████████████████████████████████████████████| 407961/407961 [00:09<00:00, 40992.61it/s]\n"
     ]
    },
    {
     "name": "stdout",
     "output_type": "stream",
     "text": [
      "abstract: 905 documents (1988, 1989, 1990, 1991, 1992, 1993, 1994, 1995, 1996, 1997, 1998, 1999, 2000, 2001, 2002, 2003, 2004, 2005, 2006, 2007, 2008, 2009, 2010, 2011, 2012, 2013, 2014, 2015, 2016, 2017, 2018)\n"
     ]
    },
    {
     "name": "stderr",
     "output_type": "stream",
     "text": [
      "Filtering 'sustainability' corpus : 100%|███████████████████████████████████████████████| 221034/221034 [00:05<00:00, 37447.03it/s]\n"
     ]
    },
    {
     "name": "stdout",
     "output_type": "stream",
     "text": [
      "sustainability: 96 documents (2000, 2002, 2003, 2004, 2005, 2006, 2007, 2008, 2009, 2010, 2011, 2012, 2013, 2014, 2015, 2016, 2017, 2018)\n"
     ]
    }
   ],
   "source": [
    "from simple_statistics import yearwise_documents\n",
    "mult_years = []\n",
    "mult_counts = []\n",
    "filtered_corpora = []\n",
    "for corpus in corpora:\n",
    "    corpus = CorpusFilter.filter(corpus=corpus, text_contains_one_of=[\"fckw\", \"cfc\"])\n",
    "    filtered_corpora.append(corpus)\n",
    "    import time\n",
    "    print(f\"{corpus.name}: {len(corpus.get_documents())} documents ({', '.join([str(y) for y in corpus.get_years()])})\")\n",
    "    time.sleep(1)\n",
    "    \n",
    "#     years, counts = yearwise_documents(corpus)\n",
    "    years, counts = yearwise_documents(corpus.sample(number_documents=100))\n",
    "    mult_years.append(years)\n",
    "    mult_counts.append(counts)\n",
    "#     simple_bar_histogram(years, counts)\n"
   ]
  },
  {
   "cell_type": "code",
   "execution_count": 15,
   "metadata": {},
   "outputs": [
    {
     "data": {
      "image/png": "[encoded data removed]",
      "text/plain": [
       "<Figure size 432x288 with 1 Axes>"
      ]
     },
     "metadata": {
      "needs_background": "light"
     },
     "output_type": "display_data"
    }
   ],
   "source": [
    "mult_counts = []\n",
    "mult_years = []\n",
    "for corpus in filtered_corpora:\n",
    "#     years, counts = yearwise_documents(corpus)\n",
    "    years, counts = yearwise_documents(corpus.sample(number_documents=80))\n",
    "    mult_years.append(years)\n",
    "    mult_counts.append(counts)\n",
    "#     simple_bar_histogram(years, counts)\n",
    "from plot_utils import multi_bar_histogram\n",
    "multi_bar_histogram(mult_years, mult_counts, labels=[\"bundestag\", \"abstracts\", \"sustainability\"], normalize=False, corpus_lengths=[877973, 407961, 221034])"
   ]
  },
  {
   "cell_type": "code",
   "execution_count": 7,
   "metadata": {},
   "outputs": [
    {
     "data": {
      "image/png": "[encoded data removed]",
      "text/plain": [
       "<Figure size 432x288 with 1 Axes>"
      ]
     },
     "metadata": {
      "needs_background": "light"
     },
     "output_type": "display_data"
    }
   ],
   "source": [
    "from plot_utils import multi_bar_histogram\n",
    "multi_bar_histogram(mult_years, mult_counts, labels=[\"bundestag\", \"abstracts\", \"sustainability\"], normalize=False, corpus_lengths=[877973, 407961, 221034])"
   ]
  },
  {
   "cell_type": "code",
   "execution_count": 15,
   "metadata": {},
   "outputs": [
    {
     "data": {
      "image/png": "[encoded data removed]",
      "text/plain": [
       "<Figure size 432x288 with 1 Axes>"
      ]
     },
     "metadata": {
      "needs_background": "light"
     },
     "output_type": "display_data"
    }
   ],
   "source": [
    "from plot_utils import multi_bar_histogram\n",
    "multi_bar_histogram(mult_years, mult_counts, labels=[\"bundestag\", \"abstracts\", \"sustainability\"], normalize=False, corpus_lengths=[877973, 407961, 221034])"
   ]
  },
  {
   "cell_type": "code",
   "execution_count": 11,
   "metadata": {},
   "outputs": [
    {
     "name": "stderr",
     "output_type": "stream",
     "text": [
      "Calculating RAKE: 100%|██████████████████████████████████████████████████████████████████████████| 96/96 [00:00<00:00, 499.57it/s]\n",
      "Assign keywords to documents: 100%|█████████████████████████████████████████████████████████████| 96/96 [00:00<00:00, 3365.46it/s]\n"
     ]
    }
   ],
   "source": [
    "# extract keywords from documents in corpus and assign keywords to documents\n",
    "keywords = KeyPhraseExtractor.rake(corpus=corpus)"
   ]
  },
  {
   "cell_type": "code",
   "execution_count": null,
   "metadata": {},
   "outputs": [],
   "source": [
    "kwt = KeywordTranslator()\n",
    "\n",
    "for d in corpus.get_documents():\n",
    "    print(d.text[:100], '...\\n  keywords:')\n",
    "    for kw in d.keywords:\n",
    "        print('    - \\\"'+str(kw)+'\\\"')\n",
    "    print('\\n')"
   ]
  },
  {
   "cell_type": "code",
   "execution_count": null,
   "metadata": {},
   "outputs": [],
   "source": [
    "from typing import Dict, List\n",
    "from collections import Counter"
   ]
  },
  {
   "cell_type": "code",
   "execution_count": null,
   "metadata": {},
   "outputs": [],
   "source": [
    "def key_word_count(keywords: Dict[str, List[str]], top_k=100):\n",
    "    flattened_keywords = [word for document, document_keywords in keywords.items() for word in document_keywords]\n",
    "    c = Counter(flattened_keywords)\n",
    "    if top_k is None:\n",
    "        return c\n",
    "    return c.most_common(top_k)"
   ]
  },
  {
   "cell_type": "code",
   "execution_count": null,
   "metadata": {},
   "outputs": [],
   "source": [
    "print(key_word_count(rake_keywords))"
   ]
  }
 ],
 "metadata": {
  "kernelspec": {
   "display_name": "Python 3",
   "language": "python",
   "name": "python3"
  },
  "language_info": {
   "codemirror_mode": {
    "name": "ipython",
    "version": 3
   },
   "file_extension": ".py",
   "mimetype": "text/x-python",
   "name": "python",
   "nbconvert_exporter": "python",
   "pygments_lexer": "ipython3",
   "version": "3.7.5"
  }
 },
 "nbformat": 4,
 "nbformat_minor": 4
}
