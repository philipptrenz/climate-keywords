{
 "cells": [
  {
   "cell_type": "code",
   "execution_count": 1,
   "metadata": {},
   "outputs": [],
   "source": [
    "from utils import ConfigLoader, Corpus, Keyword, KeywordType, Language, KeywordTranslator, CorpusFilter"
   ]
  },
  {
   "cell_type": "code",
   "execution_count": 2,
   "metadata": {},
   "outputs": [],
   "source": [
    "from corpora_processing import KeyPhraseExtractor"
   ]
  },
  {
   "cell_type": "code",
   "execution_count": 3,
   "metadata": {},
   "outputs": [],
   "source": [
    "config = ConfigLoader.get_config()"
   ]
  },
  {
   "cell_type": "code",
   "execution_count": 4,
   "metadata": {},
   "outputs": [],
   "source": [
    "kwt = KeywordTranslator(cache_file=config[\"translator\"][\"cache_file\"])"
   ]
  },
  {
   "cell_type": "code",
   "execution_count": 5,
   "metadata": {},
   "outputs": [],
   "source": [
    "corpora = [\n",
    "    Corpus(source=config[\"corpora\"][\"bundestag_corpus\"], name=\"bundestag\", language=Language.DE),\n",
    "    Corpus(source=config[\"corpora\"][\"abstract_corpus\"], name=\"abstract\", language=Language.EN),\n",
    "    Corpus(source=config[\"corpora\"][\"sustainability_corpus\"], name=\"sustainability\", language=Language.EN)\n",
    "]"
   ]
  },
  {
   "cell_type": "code",
   "execution_count": 10,
   "metadata": {},
   "outputs": [
    {
     "name": "stderr",
     "output_type": "stream",
     "text": [
      "Filtering 'bundestag' corpus : 100%|██████████| 877973/877973 [00:37<00:00, 23644.57it/s]\n"
     ]
    },
    {
     "name": "stdout",
     "output_type": "stream",
     "text": [
      "bundestag: 298 documents (1987, 1988, 1989, 1990, 1991, 1992, 1993, 1994, 1995, 1996, 1997, 1998, 1999, 2000, 2002, 2003, 2004, 2008, 2009, 2011, 2012, 2014, 2015, 2016, 2018, 2019)\n"
     ]
    },
    {
     "name": "stderr",
     "output_type": "stream",
     "text": [
      "Filtering 'abstract' corpus : 100%|██████████| 407961/407961 [00:14<00:00, 28630.64it/s]\n"
     ]
    },
    {
     "name": "stdout",
     "output_type": "stream",
     "text": [
      "abstract: 905 documents (1988, 1989, 1990, 1991, 1992, 1993, 1994, 1995, 1996, 1997, 1998, 1999, 2000, 2001, 2002, 2003, 2004, 2005, 2006, 2007, 2008, 2009, 2010, 2011, 2012, 2013, 2014, 2015, 2016, 2017, 2018)\n"
     ]
    },
    {
     "name": "stderr",
     "output_type": "stream",
     "text": [
      "Filtering 'sustainability' corpus : 100%|██████████| 221037/221037 [00:08<00:00, 26105.56it/s]\n"
     ]
    },
    {
     "name": "stdout",
     "output_type": "stream",
     "text": [
      "sustainability: 96 documents (2000, 2002, 2003, 2004, 2005, 2006, 2007, 2008, 2009, 2010, 2011, 2012, 2013, 2014, 2015, 2016, 2017, 2018)\n"
     ]
    }
   ],
   "source": [
    "for corpus in corpora:\n",
    "    corpus = CorpusFilter.filter(corpus=corpus, text_contains_one_of=[\"fckw\", \"cfc\"])\n",
    "    import time\n",
    "    print(f\"{corpus.name}: {len(corpus.get_documents())} documents ({', '.join([str(y) for y in corpus.get_years()])})\")\n",
    "    time.sleep(1)"
   ]
  },
  {
   "cell_type": "code",
   "execution_count": null,
   "metadata": {},
   "outputs": [],
   "source": [
    "# extract keywords from documents in corpus and assign keywords to documents\n",
    "keywords = KeyPhraseExtractor.rake(corpus=corpus)"
   ]
  },
  {
   "cell_type": "code",
   "execution_count": null,
   "metadata": {},
   "outputs": [],
   "source": [
    "kwt = KeywordTranslator()\n",
    "\n",
    "for d in corpus.get_documents():\n",
    "    print(d.text[:100], '...\\n  keywords:')\n",
    "    for kw in d.keywords:\n",
    "        print('    - \\\"'+str(kw)+'\\\"')\n",
    "    print('\\n')"
   ]
  },
  {
   "cell_type": "code",
   "execution_count": null,
   "metadata": {},
   "outputs": [],
   "source": [
    "from typing import Dict, List\n",
    "from collections import Counter"
   ]
  },
  {
   "cell_type": "code",
   "execution_count": null,
   "metadata": {},
   "outputs": [],
   "source": [
    "def key_word_count(keywords: Dict[str, List[str]], top_k=100):\n",
    "    flattened_keywords = [word for document, document_keywords in keywords.items() for word in document_keywords]\n",
    "    c = Counter(flattened_keywords)\n",
    "    if top_k is None:\n",
    "        return c\n",
    "    return c.most_common(top_k)"
   ]
  },
  {
   "cell_type": "code",
   "execution_count": null,
   "metadata": {},
   "outputs": [],
   "source": [
    "print(key_word_count(rake_keywords))"
   ]
  }
 ],
 "metadata": {
  "kernelspec": {
   "display_name": "ctm",
   "language": "python",
   "name": "ctm"
  },
  "language_info": {
   "codemirror_mode": {
    "name": "ipython",
    "version": 3
   },
   "file_extension": ".py",
   "mimetype": "text/x-python",
   "name": "python",
   "nbconvert_exporter": "python",
   "pygments_lexer": "ipython3",
   "version": "3.7.5"
  }
 },
 "nbformat": 4,
 "nbformat_minor": 4
}
