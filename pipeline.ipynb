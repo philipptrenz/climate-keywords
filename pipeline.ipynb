{
 "cells": [
  {
   "cell_type": "code",
   "execution_count": 2,
   "metadata": {},
   "outputs": [],
   "source": [
    "from corpora_processing import KeyPhraseExtractor\n",
    "from typing import List, Union"
   ]
  },
  {
   "cell_type": "code",
   "execution_count": 3,
   "metadata": {},
   "outputs": [],
   "source": [
    "from utils import ConfigLoader, Corpus, Keyword, KeywordType, Language, KeywordTranslator, CorpusFilter"
   ]
  },
  {
   "cell_type": "code",
   "execution_count": 4,
   "metadata": {},
   "outputs": [],
   "source": [
    "config = ConfigLoader.get_config()"
   ]
  },
  {
   "cell_type": "code",
   "execution_count": 5,
   "metadata": {},
   "outputs": [],
   "source": [
    "kwt = KeywordTranslator(cache_file=config[\"translator\"][\"cache_file\"])"
   ]
  },
  {
   "cell_type": "code",
   "execution_count": 6,
   "metadata": {},
   "outputs": [],
   "source": [
    "corpora: List[Corpus] = [\n",
    "    Corpus(source=config[\"corpora\"][\"bundestag_corpus\"], name=\"bundestag\", language=Language.DE),\n",
    "    Corpus(source=config[\"corpora\"][\"abstract_corpus\"], name=\"abstract\", language=Language.EN),\n",
    "    Corpus(source=config[\"corpora\"][\"sustainability_corpus\"], name=\"sustainability\", language=Language.EN)\n",
    "]"
   ]
  },
  {
   "cell_type": "code",
   "execution_count": 7,
   "metadata": {},
   "outputs": [
    {
     "name": "stderr",
     "output_type": "stream",
     "text": [
      "Filtering 'bundestag' corpus : 100%|██████████| 877973/877973 [00:40<00:00, 21562.49it/s]\n"
     ]
    },
    {
     "name": "stdout",
     "output_type": "stream",
     "text": [
      "bundestag: 298 documents (1987, 1988, 1989, 1990, 1991, 1992, 1993, 1994, 1995, 1996, 1997, 1998, 1999, 2000, 2002, 2003, 2004, 2008, 2009, 2011, 2012, 2014, 2015, 2016, 2018, 2019)\n"
     ]
    },
    {
     "name": "stderr",
     "output_type": "stream",
     "text": [
      "Filtering 'abstract' corpus : 100%|██████████| 407961/407961 [00:15<00:00, 26172.11it/s]\n"
     ]
    },
    {
     "name": "stdout",
     "output_type": "stream",
     "text": [
      "abstract: 905 documents (1988, 1989, 1990, 1991, 1992, 1993, 1994, 1995, 1996, 1997, 1998, 1999, 2000, 2001, 2002, 2003, 2004, 2005, 2006, 2007, 2008, 2009, 2010, 2011, 2012, 2013, 2014, 2015, 2016, 2017, 2018)\n"
     ]
    },
    {
     "name": "stderr",
     "output_type": "stream",
     "text": [
      "Filtering 'sustainability' corpus : 100%|██████████| 221037/221037 [00:08<00:00, 24617.37it/s]\n"
     ]
    },
    {
     "name": "stdout",
     "output_type": "stream",
     "text": [
      "sustainability: 96 documents (2000, 2002, 2003, 2004, 2005, 2006, 2007, 2008, 2009, 2010, 2011, 2012, 2013, 2014, 2015, 2016, 2017, 2018)\n"
     ]
    }
   ],
   "source": [
    "from simple_statistics import yearwise_documents\n",
    "mult_years = []\n",
    "mult_counts = []\n",
    "filtered_corpora = []\n",
    "for corpus in corpora:\n",
    "    corpus = CorpusFilter.filter(corpus=corpus, text_contains_one_of=[\"fckw\", \"cfc\"])\n",
    "    filtered_corpora.append(corpus)\n",
    "    import time\n",
    "    print(f\"{corpus.name}: {len(corpus.get_documents())} documents ({', '.join([str(y) for y in corpus.get_years()])})\")\n",
    "    time.sleep(1)\n",
    "    \n",
    "#     years, counts = yearwise_documents(corpus)\n",
    "    years, counts = yearwise_documents(corpus.sample(number_documents=100))\n",
    "    mult_years.append(years)\n",
    "    mult_counts.append(counts)\n",
    "#     simple_bar_histogram(years, counts)\n"
   ]
  },
  {
   "cell_type": "code",
   "execution_count": 8,
   "metadata": {},
   "outputs": [],
   "source": [
    "mult_counts = []\n",
    "mult_years = []\n",
    "for corpus in filtered_corpora:\n",
    "#     years, counts = yearwise_documents(corpus)\n",
    "    years, counts = yearwise_documents(corpus.sample(number_documents=30, seed=42))\n",
    "    mult_years.append(years)\n",
    "    mult_counts.append(counts)\n",
    "#     simple_bar_histogram(years, counts)"
   ]
  },
  {
   "cell_type": "code",
   "execution_count": 9,
   "metadata": {},
   "outputs": [
    {
     "data": {
      "image/png": "[encoded data removed]",
      "text/plain": [
       "<Figure size 432x288 with 1 Axes>"
      ]
     },
     "metadata": {
      "needs_background": "light"
     },
     "output_type": "display_data"
    }
   ],
   "source": [
    "from plot_utils import multi_bar_histogram\n",
    "multi_bar_histogram(mult_years, mult_counts, labels=[\"bundestag\", \"abstracts\", \"sustainability\"], normalize=False, corpus_lengths=[877973, 407961, 221034])"
   ]
  },
  {
   "cell_type": "code",
   "execution_count": 10,
   "metadata": {},
   "outputs": [],
   "source": [
    "# extract keywords from documents in corpus and assign keywords to documents\n",
    "sampled_corpora = [corpus.sample(1, seed=42) for corpus in filtered_corpora]"
   ]
  },
  {
   "cell_type": "code",
   "execution_count": 11,
   "metadata": {},
   "outputs": [
    {
     "name": "stderr",
     "output_type": "stream",
     "text": [
      "Calculating RAKE: 100%|██████████| 1/1 [00:00<00:00, 29.81it/s]\n",
      "Assign keywords to documents: 100%|██████████| 1/1 [00:00<00:00, 1426.63it/s]\n",
      "Calculating RAKE: 100%|██████████| 1/1 [00:00<00:00, 284.80it/s]\n",
      "Assign keywords to documents: 100%|██████████| 1/1 [00:00<00:00, 419.10it/s]\n",
      "Calculating RAKE: 100%|██████████| 1/1 [00:00<00:00, 321.53it/s]\n",
      "Assign keywords to documents: 100%|██████████| 1/1 [00:00<00:00, 683.45it/s]\n"
     ]
    }
   ],
   "source": [
    "for corpus in sampled_corpora:\n",
    "    KeyPhraseExtractor.rake(corpus=corpus)"
   ]
  },
  {
   "cell_type": "code",
   "execution_count": 12,
   "metadata": {},
   "outputs": [],
   "source": [
    "import re\n",
    "def remove_punctuation(corpus: Corpus):\n",
    "    for d in corpus.get_documents():\n",
    "        res = re.sub(r'[^a-zA-ZäöüÖÄÜß\\-\\s\\.!\\?]', '', d.text)\n",
    "        res = re.sub(r' +', ' ', res)\n",
    "        d.text = res\n",
    "    \n",
    "\n",
    "remove_punctuation(sampled_corpora[0])"
   ]
  },
  {
   "cell_type": "code",
   "execution_count": 13,
   "metadata": {},
   "outputs": [
    {
     "name": "stdout",
     "output_type": "stream",
     "text": [
      "found keyword 'reinigung elektronisch gerät verwenden' in cache, taking this one\n",
      "de \t cleaning electronic gadget use \t\t\t reinigung elektronisch gerät verwenden\n",
      "found keyword 'folgen dar – schätzung' in cache, taking this one\n",
      "de \t follow is - estimate \t\t\t folgen dar – schätzung\n",
      "found keyword 'bundeswehr eingesetzt fckwhaltigen kältemittel' in cache, taking this one\n",
      "de \t Armed Forces used fckwhaltigen refrigerant \t\t\t bundeswehr eingesetzt fckwhaltigen kältemittel\n",
      "found keyword 'geschlossen system betragen 24' in cache, taking this one\n",
      "de \t closed system are 24 \t\t\t geschlossen system betragen 24\n",
      "found keyword 'halon 1 301' in cache, taking this one\n",
      "de \t halon 1 301 \t\t\t halon 1 301\n",
      "found keyword 'herr kollege erler' in cache, taking this one\n",
      "de \t mr colleague learn \t\t\t herr kollege erler\n",
      "found keyword '780 t halon' in cache, taking this one\n",
      "de \t 780 t halon \t\t\t 780 t halon\n",
      "found keyword 'weit fallend tendenz' in cache, taking this one\n",
      "de \t far falling trend \t\t\t weit fallend tendenz\n",
      "found keyword '6 t fckw' in cache, taking this one\n",
      "de \t 6 t fckw \t\t\t 6 t fckw\n",
      "found keyword 'geschlossen system' in cache, taking this one\n",
      "de \t closed system \t\t\t geschlossen system\n",
      "found keyword 'potent hydrofluorocarbon greenhouse gas' in cache, taking this one\n",
      "en \t potent hydrofluorocarbon greenhouse gas \t\t\t potent Fluorkohlenwasserstoff- Treibhausgas\n",
      "found keyword 'cape grim air archive' in cache, taking this one\n",
      "en \t cape grim air archive \t\t\t Kap grimmige Luft Archiv\n",
      "found keyword '22 growth rate slow' in cache, taking this one\n",
      "en \t 22 growth rate slow \t\t\t 22 Wachstumsrate langsam\n",
      "found keyword 'annual average rate' in cache, taking this one\n",
      "en \t annual average rate \t\t\t Jahresdurchschnittskurs\n",
      "found keyword 'slow atmospheric growth' in cache, taking this one\n",
      "en \t slow atmospheric growth \t\t\t langsam atmosphärisches Wachstum\n",
      "found keyword 'five core station' in cache, taking this one\n",
      "en \t five core station \t\t\t fünf Kernstation\n",
      "found keyword 'bayesian inversion methodology' in cache, taking this one\n",
      "en \t bayesian inversion methodology \t\t\t Bayes-Inversion Methodik\n",
      "found keyword 'low fractional emission' in cache, taking this one\n",
      "en \t low fractional emission \t\t\t niedrige Emission fraktionierte\n",
      "found keyword 'high fractional emission' in cache, taking this one\n",
      "en \t high fractional emission \t\t\t hohe fraktionierte Emissions\n",
      "found keyword 'model mole fraction' in cache, taking this one\n",
      "en \t model mole fraction \t\t\t Modell Molenbruch\n",
      "found keyword 'therefore require little maintenance' in cache, taking this one\n",
      "en \t therefore require little maintenance \t\t\t deshalb benötigen wenig Wartung\n",
      "found keyword 'several different hypothesis base' in cache, taking this one\n",
      "en \t several different hypothesis base \t\t\t mehrere verschiedene Basis Hypothese\n",
      "found keyword 'compress air flow tangentially' in cache, taking this one\n",
      "en \t compress air flow tangentially \t\t\t Kompresse Luftstrom tangential\n",
      "found keyword 'fully understand due' in cache, taking this one\n",
      "en \t fully understand due \t\t\t vollständig zu verstehen, durch\n",
      "found keyword 'finite volume method' in cache, taking this one\n",
      "en \t finite volume method \t\t\t Finite-Volumen-Verfahren\n",
      "found keyword '2007 elsevier ltd' in cache, taking this one\n",
      "en \t 2007 elsevier ltd \t\t\t 2007 Elsevier LTD\n",
      "found keyword 'phenomenon occur inside' in cache, taking this one\n",
      "en \t phenomenon occur inside \t\t\t Phänomen auftreten innen\n",
      "found keyword 'thermal separation phenomenon' in cache, taking this one\n",
      "en \t thermal separation phenomenon \t\t\t Wärmetrennungsphänomen\n",
      "found keyword 'cold mass fraction' in cache, taking this one\n",
      "en \t cold mass fraction \t\t\t Kaltmassenanteil\n",
      "found keyword 'two important parameter' in cache, taking this one\n",
      "en \t two important parameter \t\t\t zwei wichtige Parameter\n"
     ]
    }
   ],
   "source": [
    "for corpus in sampled_corpora[:]:\n",
    "    corpus.translate_keywords(kwt, restrict_per_document=10)\n",
    "\n",
    "# sampled_corpora[2].get_documents()[0].keywords"
   ]
  },
  {
   "cell_type": "code",
   "execution_count": 14,
   "metadata": {},
   "outputs": [
    {
     "name": "stdout",
     "output_type": "stream",
     "text": [
      "found keyword 'reinigung elektronisch gerät verwenden' in cache, taking this one\n",
      "de \t cleaning electronic gadget use \t\t\t reinigung elektronisch gerät verwenden\n",
      "[de(cleaning electronic gadget use | reinigung elektronisch gerät verwenden)]\n",
      "found keyword 'potent hydrofluorocarbon greenhouse gas' in cache, taking this one\n",
      "en \t potent hydrofluorocarbon greenhouse gas \t\t\t potent Fluorkohlenwasserstoff- Treibhausgas\n",
      "[en(potent hydrofluorocarbon greenhouse gas | potent Fluorkohlenwasserstoff- Treibhausgas)]\n",
      "found keyword 'therefore require little maintenance' in cache, taking this one\n",
      "en \t therefore require little maintenance \t\t\t deshalb benötigen wenig Wartung\n",
      "[en(therefore require little maintenance | deshalb benötigen wenig Wartung)]\n"
     ]
    }
   ],
   "source": [
    "for corpus in sampled_corpora[:]:\n",
    "    print(corpus.translate_keywords(kwt, restrict_per_document=1))\n",
    "\n",
    "# sampled_corpora[2].get_documents()[0].keywords"
   ]
  },
  {
   "cell_type": "code",
   "execution_count": 15,
   "metadata": {},
   "outputs": [
    {
     "data": {
      "text/plain": [
       "[de(cleaning electronic gadget use | reinigung elektronisch gerät verwenden),\n",
       " de(follow is - estimate | folgen dar – schätzung),\n",
       " de(Armed Forces used fckwhaltigen refrigerant | bundeswehr eingesetzt fckwhaltigen kältemittel),\n",
       " de(closed system are 24 | geschlossen system betragen 24),\n",
       " de(halon 1 301 | halon 1 301),\n",
       " de(mr colleague learn | herr kollege erler),\n",
       " de(780 t halon | 780 t halon),\n",
       " de(far falling trend | weit fallend tendenz),\n",
       " de(6 t fckw | 6 t fckw),\n",
       " de(closed system | geschlossen system),\n",
       " de(- | verbrauch betragen),\n",
       " de(- | tonne –),\n",
       " de(- | kreislauf verwenden),\n",
       " de(- | herr präsident),\n",
       " de(- | weit fallen),\n",
       " de(- | weit aufschlüsselung),\n",
       " de(- | 9 t),\n",
       " de(- | 65 t),\n",
       " de(- | 253 t),\n",
       " de(- | 2 t),\n",
       " de(- | haltige reinigungsmittel),\n",
       " de(- | gerne nachliefern),\n",
       " de(- | feuerlöschmittel bevorratet),\n",
       " de(- | darauf aufmerksam),\n",
       " de(- | anlagetypen derzeit),\n",
       " de(- | menge reduzieren),\n",
       " de(- | jahr 1990),\n",
       " de(- | bundeswehr),\n",
       " de(- | tendenz),\n",
       " de(- | fckw),\n",
       " de(- | menge),\n",
       " de(- | 1990),\n",
       " de(- | vorlesen),\n",
       " de(- | vielzahl),\n",
       " de(- | unternehmen),\n",
       " de(- | tun),\n",
       " de(- | stellen),\n",
       " de(- | sofort),\n",
       " de(- | rüstungsindustrie),\n",
       " de(- | reinigungsmitteln),\n",
       " de(- | müssen),\n",
       " de(- | möglich),\n",
       " de(- | kältemitteln),\n",
       " de(- | kommen),\n",
       " de(- | gesamtmenge),\n",
       " de(- | einverstanden),\n",
       " de(- | bereich),\n",
       " de(- | bekommen),\n",
       " de(- | aufschlüsseln),\n",
       " de(- | anwendungszwecken),\n",
       " de(- | anwendungszweck),\n",
       " de(- | angesichts),\n",
       " de(- | 27)]"
      ]
     },
     "execution_count": 15,
     "metadata": {},
     "output_type": "execute_result"
    }
   ],
   "source": [
    "sampled_corpora[0].get_documents()[0].keywords"
   ]
  },
  {
   "cell_type": "code",
   "execution_count": 16,
   "metadata": {},
   "outputs": [
    {
     "data": {
      "text/plain": [
       "({}, {})"
      ]
     },
     "execution_count": 16,
     "metadata": {},
     "output_type": "execute_result"
    }
   ],
   "source": [
    "from utils import KeywordMatcher\n",
    "KeywordMatcher.match_corpora(sampled_corpora[0], sampled_corpora[1])"
   ]
  },
  {
   "cell_type": "code",
   "execution_count": 17,
   "metadata": {},
   "outputs": [
    {
     "name": "stderr",
     "output_type": "stream",
     "text": [
      "WARNING:root:Loading of file failed\n",
      "WARNING:root:File does not exist\n"
     ]
    },
    {
     "name": "stdout",
     "output_type": "stream",
     "text": [
      "Herr Präsident ! Herr Kollege Erler im Bereich der Bundeswehr werden t Halon als Feuerlöschmittel be ...\n",
      "  keywords:\n",
      "    - \"de(clean electronic gadget use | reinigung elektronisch geraten verwenden)\"\n",
      "    - \"de(follow be - estimate | folgen dar – schätzung)\"\n",
      "    - \"de(Armed Forces use fckwhaltigen refrigerant | bundeswehr einsetzen fckwhaltigen kältemittel)\"\n",
      "    - \"de(closed system be 24 | schließen system betragen 24)\"\n",
      "    - \"de(halon 1 301 | halon 1 301)\"\n",
      "    - \"de(mr colleague learn | herr kollege erler)\"\n",
      "    - \"de(780 t halon | 780 t halon)\"\n",
      "    - \"de(far fall trend | weit fallen tendenz)\"\n",
      "    - \"de(6 t fckw | 6 t fckw)\"\n",
      "    - \"de(closed system | schließen system)\"\n",
      "    - \"de(- | verbrauch betragen)\"\n",
      "    - \"de(- | tonne –)\"\n",
      "    - \"de(- | kreislauf verwenden)\"\n",
      "    - \"de(- | herr präsident)\"\n",
      "    - \"de(- | weit fallen)\"\n",
      "    - \"de(- | weit aufschlüsselung)\"\n",
      "    - \"de(- | 9 t)\"\n",
      "    - \"de(- | 65 t)\"\n",
      "    - \"de(- | 253 t)\"\n",
      "    - \"de(- | 2 t)\"\n",
      "    - \"de(- | haltige reinigungsmittel)\"\n",
      "    - \"de(- | gerne nachliefern)\"\n",
      "    - \"de(- | feuerlöschmittel bevorratet)\"\n",
      "    - \"de(- | darauf aufmerksam)\"\n",
      "    - \"de(- | anlagetypen derzeit)\"\n",
      "    - \"de(- | menge reduzieren)\"\n",
      "    - \"de(- | jahr 1990)\"\n",
      "    - \"de(- | bundeswehr)\"\n",
      "    - \"de(- | tendenz)\"\n",
      "    - \"de(- | fckw)\"\n",
      "    - \"de(- | menge)\"\n",
      "    - \"de(- | 1990)\"\n",
      "    - \"de(- | vorlesen)\"\n",
      "    - \"de(- | vielzahl)\"\n",
      "    - \"de(- | unternehmen)\"\n",
      "    - \"de(- | tun)\"\n",
      "    - \"de(- | stellen)\"\n",
      "    - \"de(- | sofort)\"\n",
      "    - \"de(- | rüstungsindustrie)\"\n",
      "    - \"de(- | reinigungsmitteln)\"\n",
      "    - \"de(- | müssen)\"\n",
      "    - \"de(- | möglich)\"\n",
      "    - \"de(- | kältemitteln)\"\n",
      "    - \"de(- | kommen)\"\n",
      "    - \"de(- | gesamtmenge)\"\n",
      "    - \"de(- | einverstanden)\"\n",
      "    - \"de(- | bereich)\"\n",
      "    - \"de(- | bekommen)\"\n",
      "    - \"de(- | aufschlüsseln)\"\n",
      "    - \"de(- | anwendungszwecken)\"\n",
      "    - \"de(- | anwendungszweck)\"\n",
      "    - \"de(- | angesichts)\"\n",
      "    - \"de(- | 27)\"\n",
      "\n",
      "\n",
      "High frequency measurement of trifluoromethane ( HFC-23 , CHF3 ) , a potent hydrofluorocarbon greenh ...\n",
      "  keywords:\n",
      "    - \"en(potent hydrofluorocarbon greenhouse gas | potent Fluorkohlenwasserstoff- Treibhausgas)\"\n",
      "    - \"en(cape grim air archive | Kap grimmige Luft Archiv)\"\n",
      "    - \"en(22 growth rate slow | 22 Wachstumsrate langsam)\"\n",
      "    - \"en(annual average rate | Jahresdurchschnittskurs)\"\n",
      "    - \"en(slow atmospheric growth | langsam atmosphärisches Wachstum)\"\n",
      "    - \"en(five core station | fünf Kernstation)\"\n",
      "    - \"en(bayesian inversion methodology | Bayes-Inversion Methodik)\"\n",
      "    - \"en(low fractional emission | niedrige Emission fraktionieren)\"\n",
      "    - \"en(high fractional emission | hoch fraktionieren Emissions)\"\n",
      "    - \"en(model mole fraction | Modell Molenbruch)\"\n",
      "    - \"en(yr ( - 2 | -)\"\n",
      "    - \"en(high frequency measurement | -)\"\n",
      "    - \"en(annual average hcfc | -)\"\n",
      "    - \"en(23 emission remain | -)\"\n",
      "    - \"en(23 emission | -)\"\n",
      "    - \"en(firn air | -)\"\n",
      "    - \"en(air sample | -)\"\n",
      "    - \"en(box model | -)\"\n",
      "    - \"en(atmospheric abundance | -)\"\n",
      "    - \"en(atmospheric 12 | -)\"\n",
      "    - \"en(/- 2 | -)\"\n",
      "    - \"en(22 move | -)\"\n",
      "    - \"en(time frame | -)\"\n",
      "    - \"en(largely emit | -)\"\n",
      "    - \"en(incomplete mitigation | -)\"\n",
      "    - \"en(hydrochlorofluorocarbon hcfc | -)\"\n",
      "    - \"en(historic change | -)\"\n",
      "    - \"en(agage 2 | -)\"\n",
      "    - \"en(22 production | -)\"\n",
      "    - \"en(22 increase | -)\"\n",
      "    - \"en(unlike hfc | -)\"\n",
      "    - \"en(global hfc | -)\"\n",
      "    - \"en(background atmosphere | -)\"\n",
      "    - \"en(/- 0 | -)\"\n",
      "    - \"en(22 | -)\"\n",
      "    - \"en(measurement | -)\"\n",
      "    - \"en(hcfc | -)\"\n",
      "    - \"en(23 | -)\"\n",
      "    - \"en(hfc | -)\"\n",
      "    - \"en(production | -)\"\n",
      "    - \"en(increase | -)\"\n",
      "    - \"en(atmosphere | -)\"\n",
      "    - \"en(agage | -)\"\n",
      "    - \"en(0 | -)\"\n",
      "    - \"en(use | -)\"\n",
      "    - \"en(trifluoromethane | -)\"\n",
      "    - \"en(represent | -)\"\n",
      "    - \"en(product | -)\"\n",
      "    - \"en(network | -)\"\n",
      "    - \"en(however | -)\"\n",
      "    - \"en(history | -)\"\n",
      "    - \"en(feedstock | -)\"\n",
      "    - \"en(explore | -)\"\n",
      "    - \"en(end | -)\"\n",
      "    - \"en(dispersive | -)\"\n",
      "    - \"en(current | -)\"\n",
      "    - \"en(consistent | -)\"\n",
      "    - \"en(consequence | -)\"\n",
      "    - \"en(combine | -)\"\n",
      "    - \"en(combination | -)\"\n",
      "    - \"en(chf3 | -)\"\n",
      "    - \"en(chclf2 | -)\"\n",
      "    - \"en(cgaa | -)\"\n",
      "    - \"en(9 | -)\"\n",
      "    - \"en(6 | -)\"\n",
      "    - \"en(28 | -)\"\n",
      "    - \"en(237 | -)\"\n",
      "    - \"en(2016 | -)\"\n",
      "    - \"en(2009 | -)\"\n",
      "    - \"en(199 | -)\"\n",
      "    - \"en(19 | -)\"\n",
      "\n",
      "\n",
      "The vortex tube or Ranque - Hilsch vortex tube be a device that enable the separation of hot and col ...\n",
      "  keywords:\n",
      "    - \"en(therefore require little maintenance | deshalb benötigen wenig Wartung)\"\n",
      "    - \"en(several different hypothesis base | mehrere verschiedene Basis Hypothese)\"\n",
      "    - \"en(compress air flow tangentially | Kompresse Luftstrom tangential)\"\n",
      "    - \"en(fully understand due | vollständig zu verstehen, durch)\"\n",
      "    - \"en(finite volume method | Finite-Volumen-Verfahren)\"\n",
      "    - \"en(2007 elsevier ltd | 2007 Elsevier LTD)\"\n",
      "    - \"en(phenomenon occur inside | Phänomen auftreten innen)\"\n",
      "    - \"en(thermal separation phenomenon | Wärmetrennungsphänomen)\"\n",
      "    - \"en(cold mass fraction | Kaltmassenanteil)\"\n",
      "    - \"en(two important parameter | zwei wichtige Parameter)\"\n",
      "    - \"en(paper also review | -)\"\n",
      "    - \"en(although many experimental | -)\"\n",
      "    - \"en(parallel flow type | -)\"\n",
      "    - \"en(hilsch vortex tube | -)\"\n",
      "    - \"en(temperature separation mechanism | -)\"\n",
      "    - \"en(inlet gas pressure | -)\"\n",
      "    - \"en(paper present | -)\"\n",
      "    - \"en(field inside | -)\"\n",
      "    - \"en(counter flow | -)\"\n",
      "    - \"en(computation review | -)\"\n",
      "    - \"en(cold air | -)\"\n",
      "    - \"en(vortex tube | -)\"\n",
      "    - \"en(vortex chamber | -)\"\n",
      "    - \"en(inlet nozzle | -)\"\n",
      "    - \"en(inlet gas | -)\"\n",
      "    - \"en(temperature separation | -)\"\n",
      "    - \"en(separating cold | -)\"\n",
      "    - \"en(energy separation | -)\"\n",
      "    - \"en(cold tube | -)\"\n",
      "    - \"en(cold orifice | -)\"\n",
      "    - \"en(﻿ 1 | -)\"\n",
      "    - \"en(temperature field | -)\"\n",
      "    - \"en(right reserve | -)\"\n",
      "    - \"en(put forward | -)\"\n",
      "    - \"en(physical parameter | -)\"\n",
      "    - \"en(physical behaviour | -)\"\n",
      "    - \"en(move part | -)\"\n",
      "    - \"en(heat process | -)\"\n",
      "    - \"en(geometrical characteristic | -)\"\n",
      "    - \"en(experimental finding | -)\"\n",
      "    - \"en(cool equipment | -)\"\n",
      "    - \"en(cone valve | -)\"\n",
      "    - \"en(cnc machine | -)\"\n",
      "    - \"en(calculation present | -)\"\n",
      "    - \"en(hot air | -)\"\n",
      "    - \"en(previous study | -)\"\n",
      "    - \"en(use freon | -)\"\n",
      "    - \"en(industrial application | -)\"\n",
      "    - \"en(experiment consist | -)\"\n",
      "    - \"en(cool suit | -)\"\n",
      "    - \"en(numerical study | -)\"\n",
      "    - \"en(flow | -)\"\n",
      "    - \"en(air | -)\"\n",
      "    - \"en(separation | -)\"\n",
      "    - \"en(type | -)\"\n",
      "    - \"en(tube | -)\"\n",
      "    - \"en(temperature | -)\"\n",
      "    - \"en(pressure | -)\"\n",
      "    - \"en(parameter | -)\"\n",
      "    - \"en(gas | -)\"\n",
      "    - \"en(experimental | -)\"\n",
      "    - \"en(study | -)\"\n",
      "    - \"en(use | -)\"\n",
      "    - \"en(suit | -)\"\n",
      "    - \"en(numerical | -)\"\n",
      "    - \"en(hot | -)\"\n",
      "    - \"en(experiment | -)\"\n",
      "    - \"en(application | -)\"\n",
      "    - \"en(wear | -)\"\n",
      "    - \"en(velocity | -)\"\n",
      "    - \"en(thus | -)\"\n",
      "    - \"en(thermo | -)\"\n",
      "    - \"en(theoretical | -)\"\n",
      "    - \"en(simple | -)\"\n",
      "    - \"en(shape | -)\"\n",
      "    - \"en(refrigerator | -)\"\n",
      "    - \"en(refrigerant | -)\"\n",
      "    - \"en(ranque | -)\"\n",
      "    - \"en(quiet | -)\"\n",
      "    - \"en(quantitative | -)\"\n",
      "    - \"en(principle | -)\"\n",
      "    - \"en(oxygen | -)\"\n",
      "    - \"en(overview | -)\"\n",
      "    - \"en(numb | -)\"\n",
      "    - \"en(moisture | -)\"\n",
      "    - \"en(methane | -)\"\n",
      "    - \"en(measure | -)\"\n",
      "    - \"en(make | -)\"\n",
      "    - \"en(light | -)\"\n",
      "    - \"en(length | -)\"\n",
      "    - \"en(lack | -)\"\n",
      "    - \"en(helium | -)\"\n",
      "    - \"en(hcfcs | -)\"\n",
      "    - \"en(good | -)\"\n",
      "    - \"en(furthermore | -)\"\n",
      "    - \"en(focus | -)\"\n",
      "    - \"en(explore | -)\"\n",
      "    - \"en(example | -)\"\n",
      "    - \"en(etc | -)\"\n",
      "    - \"en(enable | -)\"\n",
      "    - \"en(doe | -)\"\n",
      "    - \"en(divergent | -)\"\n",
      "    - \"en(diameter | -)\"\n",
      "    - \"en(device | -)\"\n",
      "    - \"en(describe | -)\"\n",
      "    - \"en(consistency | -)\"\n",
      "    - \"en(concentrate | -)\"\n",
      "    - \"en(complexity | -)\"\n",
      "    - \"en(compact | -)\"\n",
      "    - \"en(cfcs | -)\"\n",
      "    - \"en(c | -)\"\n",
      "    - \"en(break | -)\"\n",
      "    - \"en(aspect | -)\"\n",
      "    - \"en(apply | -)\"\n",
      "    - \"en(analytic | -)\"\n",
      "    - \"en(2 | -)\"\n",
      "\n",
      "\n"
     ]
    }
   ],
   "source": [
    "kwt = KeywordTranslator()\n",
    "for corpus in sampled_corpora:\n",
    "    for d in corpus.get_documents():\n",
    "        print(d.text[:100], '...\\n  keywords:')\n",
    "        for kw in d.keywords:\n",
    "            print('    - \\\"'+str(kw)+'\\\"')\n",
    "        print('\\n')"
   ]
  },
  {
   "cell_type": "code",
   "execution_count": 18,
   "metadata": {},
   "outputs": [],
   "source": [
    "from typing import Dict, List\n",
    "from collections import Counter"
   ]
  },
  {
   "cell_type": "code",
   "execution_count": 19,
   "metadata": {},
   "outputs": [],
   "source": [
    "def key_word_count(keywords: Dict[str, List[str]], top_k=100):\n",
    "    flattened_keywords = [word for document, document_keywords in keywords.items() for word in document_keywords]\n",
    "    c = Counter(flattened_keywords)\n",
    "    if top_k is None:\n",
    "        return c\n",
    "    return c.most_common(top_k)"
   ]
  },
  {
   "cell_type": "code",
   "execution_count": 20,
   "metadata": {},
   "outputs": [
    {
     "ename": "NameError",
     "evalue": "name 'rake_keywords' is not defined",
     "output_type": "error",
     "traceback": [
      "\u001b[0;31m---------------------------------------------------------------------------\u001b[0m",
      "\u001b[0;31mNameError\u001b[0m                                 Traceback (most recent call last)",
      "\u001b[0;32m<ipython-input-20-f92b0596c7a1>\u001b[0m in \u001b[0;36m<module>\u001b[0;34m\u001b[0m\n\u001b[0;32m----> 1\u001b[0;31m \u001b[0mprint\u001b[0m\u001b[0;34m(\u001b[0m\u001b[0mkey_word_count\u001b[0m\u001b[0;34m(\u001b[0m\u001b[0mrake_keywords\u001b[0m\u001b[0;34m)\u001b[0m\u001b[0;34m)\u001b[0m\u001b[0;34m\u001b[0m\u001b[0;34m\u001b[0m\u001b[0m\n\u001b[0m",
      "\u001b[0;31mNameError\u001b[0m: name 'rake_keywords' is not defined"
     ]
    }
   ],
   "source": [
    "print(key_word_count(rake_keywords))"
   ]
  }
 ],
 "metadata": {
  "kernelspec": {
   "display_name": "ctm",
   "language": "python",
   "name": "ctm"
  },
  "language_info": {
   "codemirror_mode": {
    "name": "ipython",
    "version": 3
   },
   "file_extension": ".py",
   "mimetype": "text/x-python",
   "name": "python",
   "nbconvert_exporter": "python",
   "pygments_lexer": "ipython3",
   "version": "3.7.5"
  }
 },
 "nbformat": 4,
 "nbformat_minor": 4
}
