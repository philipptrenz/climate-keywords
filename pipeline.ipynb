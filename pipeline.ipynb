{
 "cells": [
  {
   "cell_type": "code",
   "execution_count": null,
   "metadata": {},
   "outputs": [],
   "source": [
    "from utils import DataHandler, ConfigLoader, Keyword, KeywordSourceLanguage, KeywordType, DocumentsFilter\n",
    "from corpora_processing import KeyPhraseExtractor"
   ]
  },
  {
   "cell_type": "code",
   "execution_count": 37,
   "metadata": {},
   "outputs": [],
   "source": [
    "config = ConfigLoader.get_config()"
   ]
  },
  {
   "cell_type": "code",
   "execution_count": 38,
   "metadata": {},
   "outputs": [],
   "source": [
    "corpus = DataHandler.load_corpus(config[\"corpora\"][\"abstract_corpus\"])"
   ]
  },
  {
   "cell_type": "code",
   "execution_count": null,
   "metadata": {},
   "outputs": [],
   "source": [
    "corpus = DataHandler.load_corpus(config[\"corpora\"][\"bundestag_corpus\"])"
   ]
  },
  {
   "cell_type": "code",
   "execution_count": null,
   "metadata": {},
   "outputs": [],
   "source": [
    "corpus = DataHandler.load_corpus(config[\"corpora\"][\"sustainability_corpus\"])"
   ]
  },
  {
   "cell_type": "code",
   "execution_count": 39,
   "metadata": {},
   "outputs": [
    {
     "name": "stdout",
     "output_type": "stream",
     "text": [
      "407961\n"
     ]
    }
   ],
   "source": [
    "print(len(corpus))"
   ]
  },
  {
   "cell_type": "code",
   "execution_count": 40,
   "metadata": {},
   "outputs": [
    {
     "name": "stdout",
     "output_type": "stream",
     "text": [
      "[2015: Waste be a by - product of our, 2015: A Political Theology of Climat, 2015: Climate change impact : The gr, 2015: The mean duration of snow cove, 2015: The main source of information, 2015: The palynological analysis fro, 2015: Climate model forecast signifi, 2015: In its 40-year history , the s, 2015: The genetic diversity and the , 2015: Agricultural vulnerability can]\n"
     ]
    }
   ],
   "source": [
    "print(corpus[:10])"
   ]
  },
  {
   "cell_type": "code",
   "execution_count": null,
   "metadata": {},
   "outputs": [],
   "source": [
    "#corpus = DocumentsFilter.filter(documents=corpus, text_contains=[\"climate\"])\n",
    "corpus = corpus[:10]"
   ]
  },
  {
   "cell_type": "code",
   "execution_count": 42,
   "metadata": {},
   "outputs": [
    {
     "name": "stdout",
     "output_type": "stream",
     "text": [
      "length 10\n"
     ]
    }
   ],
   "source": [
    "print('length', len(corpus))"
   ]
  },
  {
   "cell_type": "code",
   "execution_count": null,
   "metadata": {},
   "outputs": [],
   "source": [
    "rake_keywords = KeyPhraseExtractor.rake(documents=corpus)"
   ]
  },
  {
   "cell_type": "code",
   "execution_count": null,
   "metadata": {},
   "outputs": [],
   "source": [
    "print(len(rake_keywords))"
   ]
  },
  {
   "cell_type": "code",
   "execution_count": null,
   "metadata": {},
   "outputs": [],
   "source": [
    "for doc in corpus:\n",
    "    print(doc.doc_id)\n",
    "    if doc.doc_id in rake_keywords:\n",
    "        if doc.keywords is None:\n",
    "            doc.keywords = []\n",
    "        for keyword in rake_keywords[doc.doc_id]:\n",
    "            doc.keywords.append(Keyword(english_translation=keyword, type=KeywordType.RAKE))"
   ]
  },
  {
   "cell_type": "code",
   "execution_count": 44,
   "metadata": {},
   "outputs": [],
   "source": [
    "from typing import Dict, List\n",
    "from collections import Counter"
   ]
  },
  {
   "cell_type": "code",
   "execution_count": 45,
   "metadata": {},
   "outputs": [],
   "source": [
    "def key_word_count(keywords: Dict[str, List[str]], top_k=100):\n",
    "    flattened_keywords = [word for document, document_keywords in keywords.items() for word in document_keywords]\n",
    "    c = Counter(flattened_keywords)\n",
    "    if top_k is None:\n",
    "        return c\n",
    "    return c.most_common(top_k)"
   ]
  },
  {
   "cell_type": "code",
   "execution_count": 46,
   "metadata": {},
   "outputs": [
    {
     "name": "stdout",
     "output_type": "stream",
     "text": [
      "[('c', 75914), ('use', 68186), ('however', 54116), ('2', 52054), ('right reserve', 50385), ('study', 48555), ('1', 45138), ('climate change', 43947), ('result', 40626), ('increase', 37964), ('0', 37004), ('effect', 35346), ('change', 35215), ('find', 35046), ('3', 32859), ('good', 32049), ('high', 26081), ('model', 25354), ('5', 25297), ('impact', 25185), ('co2', 25149), ('show', 25055), ('e', 24985), ('compare', 24653), ('v', 24332), ('time', 23726), ('present', 23697), ('investigate', 22400), ('4', 22019), ('temperature', 21380), ('long', 21314), ('low', 20131), ('one', 20114), ('order', 19935), ('respectively', 19564), ('suggest', 19130), ('climate', 18427), ('estimate', 17949), ('response', 17673), ('determine', 17490), ('need', 17455), ('assess', 17449), ('consider', 17259), ('much', 17212), ('evaluate', 17207), ('region', 16956), ('paper', 16947), ('addition', 16460), ('understand', 16381), ('base', 16283), ('10', 16220), ('6', 16078), ('analysis', 16002), ('reduce', 15958), ('apply', 15682), ('influence', 15297), ('decrease', 15125), ('examine', 14977), ('development', 14950), ('term', 14856), ('develope', 14834), ('observe', 14720), ('n', 14689), ('emission', 14657), ('provide', 14537), ('also', 14201), ('range', 14096), ('similar', 14074), ('identify', 14003), ('species', 13993), ('non', 13948), ('lead', 13935), ('therefore', 13337), ('7', 13337), ('8', 13202), ('g', 13041), ('measure', 13039), ('analyze', 12933), ('make', 12885), ('area', 12799), ('potential', 12651), ('result show', 12623), ('process', 12445), ('large', 12341), ('soil', 12313), ('period', 12146), ('due', 12015), ('year', 11958), ('water', 11900), ('thus', 11765), ('numb', 11687), ('may', 11640), ('reduction', 11610), ('account', 11559), ('propose', 11531), ('include', 11502), ('p', 11301), ('test', 11295), ('precipitation', 11248), ('discuss', 11193)]\n"
     ]
    }
   ],
   "source": [
    "print(key_word_count(rake_keywords))"
   ]
  }
 ],
 "metadata": {
  "kernelspec": {
   "display_name": "ctm",
   "language": "python",
   "name": "ctm"
  },
  "language_info": {
   "codemirror_mode": {
    "name": "ipython",
    "version": 3
   },
   "file_extension": ".py",
   "mimetype": "text/x-python",
   "name": "python",
   "nbconvert_exporter": "python",
   "pygments_lexer": "ipython3",
   "version": "3.7.5"
  }
 },
 "nbformat": 4,
 "nbformat_minor": 4
}
