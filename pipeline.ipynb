{
 "cells": [
  {
   "cell_type": "code",
   "execution_count": 21,
   "metadata": {},
   "outputs": [],
   "source": [
    "from utils import DataHandler, ConfigLoader\n",
    "from corpora_processing import KeyPhraseExtractor"
   ]
  },
  {
   "cell_type": "code",
   "execution_count": 9,
   "metadata": {},
   "outputs": [],
   "source": [
    "config = ConfigLoader.get_config()"
   ]
  },
  {
   "cell_type": "code",
   "execution_count": 10,
   "metadata": {},
   "outputs": [],
   "source": [
    "corpus = DataHandler.load_corpus(config[\"corpora\"][\"abstract_corpus\"])"
   ]
  },
  {
   "cell_type": "code",
   "execution_count": 11,
   "metadata": {},
   "outputs": [],
   "source": [
    "corpus = DataHandler.load_corpus(config[\"corpora\"][\"bundestag_corpus\"])"
   ]
  },
  {
   "cell_type": "code",
   "execution_count": 12,
   "metadata": {},
   "outputs": [],
   "source": [
    "corpus = DataHandler.load_corpus(config[\"corpora\"][\"sustainability_corpus\"])"
   ]
  },
  {
   "cell_type": "code",
   "execution_count": 15,
   "metadata": {},
   "outputs": [
    {
     "name": "stdout",
     "output_type": "stream",
     "text": [
      "[2018: Background . The rapid adoptio, 2018: Methanol - to - olefin ( MTO ), 2018: Background : Community - base , 2018: Background : A recent meta - a, 2018: Re - shape infrastructure syst, 2018: Preventing food wastage be a k, 2018: Many uncontrollable risk and u, 2018: Electrocatalytic reduction of , 2018: A convenient , highly selectiv, 2018: Energy efficiency of system st]\n"
     ]
    }
   ],
   "source": [
    "print(corpus[:10])"
   ]
  },
  {
   "cell_type": "code",
   "execution_count": null,
   "metadata": {},
   "outputs": [
    {
     "name": "stderr",
     "output_type": "stream",
     "text": [
      "Calculating RAKE:   7%|▋         | 15976/221034 [00:22<05:23, 634.08it/s]"
     ]
    }
   ],
   "source": [
    "rake_keywords = KeyPhraseExtractor.rake(documents=corpus)\n",
    "lan"
   ]
  },
  {
   "cell_type": "code",
   "execution_count": 23,
   "metadata": {},
   "outputs": [
    {
     "ename": "NameError",
     "evalue": "name 'rake_keywords' is not defined",
     "output_type": "error",
     "traceback": [
      "\u001b[0;31m---------------------------------------------------------------------------\u001b[0m",
      "\u001b[0;31mNameError\u001b[0m                                 Traceback (most recent call last)",
      "\u001b[0;32m<ipython-input-23-6d971144937a>\u001b[0m in \u001b[0;36m<module>\u001b[0;34m\u001b[0m\n\u001b[0;32m----> 1\u001b[0;31m \u001b[0mrake_keywords\u001b[0m\u001b[0;34m\u001b[0m\u001b[0;34m\u001b[0m\u001b[0m\n\u001b[0m",
      "\u001b[0;31mNameError\u001b[0m: name 'rake_keywords' is not defined"
     ]
    }
   ],
   "source": [
    "rake_keywords"
   ]
  },
  {
   "cell_type": "code",
   "execution_count": 7,
   "metadata": {},
   "outputs": [],
   "source": [
    "from typing import Dict, List\n",
    "from collections import Counter"
   ]
  },
  {
   "cell_type": "code",
   "execution_count": 37,
   "metadata": {},
   "outputs": [],
   "source": [
    "def key_word_count(keywords: Dict[str, List[str]], top_k=100):\n",
    "    flattened_keywords = [word for document, document_keywords in keywords.items() for word in document_keywords]\n",
    "    c = Counter(flattened_keywords)\n",
    "    if top_k is None:\n",
    "        return c\n",
    "    return c.most_common(top_k)"
   ]
  },
  {
   "cell_type": "code",
   "execution_count": 38,
   "metadata": {},
   "outputs": [
    {
     "name": "stdout",
     "output_type": "stream",
     "text": [
      "[('herr staatssekretär', 7762), ('herr kollege', 5725), ('herr präsident', 4914), ('weitere zusatzfrage', 2902), ('herr abgeordneter', 2683), ('bundesrepublik deutschland', 2539), ('verehrten damen', 2507), ('herr staatsminister', 1869), ('herrn abgeordneten dr', 1250), ('frau präsidentin', 1233), ('deutschen bundestages', 1118), ('abgeordneten dr', 1072), ('bitte schön', 1053), ('herr bundesminister', 1035), ('weiteren zusatzfragen', 968), ('herr minister', 858), ('deutschen bundestag', 789), ('herr abgeordneter dr', 773), ('j a', 754), ('herr dr', 744), ('frau kollegin', 717), ('darüber hinaus', 713), ('letzten jahren', 704), ('– ja', 679), ('herr kollege dr', 668), ('frau dr', 653), ('erster linie', 646), ('vereinigten staaten', 643), ('herr bundeskanzler', 630), ('zweite zusatzfrage', 618), ('frau präsident', 601), ('– nein', 596), ('europäischen gemeinschaft', 563), ('– bitte', 561), ('geehrten damen', 561), ('darauf hinweisen', 551), ('frau staatsminister', 549), ('vielen dank', 547), ('drucksache 8', 536), ('weitere wortmeldungen liegen', 532), ('– enthaltungen', 526), ('liebe kolleginnen', 523), ('darauf hingewiesen', 515), ('herr abgeordnete dr', 499), ('anlage abgedruckt', 489), ('davon ausgehen', 488), ('darum geht', 485), ('abgeordnete dr', 462), ('frage stellen', 445), ('ausdruck gebracht', 424), ('kenntnis nehmen', 423), ('deutsche bundestag', 419), ('anlagen abgedruckt', 419), ('bundesregierung eingebrachten entwurfs', 419), ('bundesregierung bekannt', 411), ('dritte beratung', 409), ('vereinten nationen', 406), ('bundesregierung bereit', 400), ('drucksache 9', 391), ('– gegenprobe', 388), ('gehe davon', 374), ('heute morgen', 372), ('freien demokraten', 366), ('verfügung gestellt', 364), ('verfügung stehen', 362), ('frage gestellt', 355), ('anspruch nehmen', 338), ('dritten welt', 334), ('– vielen dank', 334), ('daran erinnern', 320), ('sagen –', 316), ('deutlich gemacht', 314), ('erste beratung', 297), ('ganze reihe', 295), ('ersten lesung', 295), ('wangen ).', 292), ('sozialliberalen koalition', 289), ('jungen menschen', 289), ('ja wohl', 283), ('unserer auffassung', 279), ('kenntnis genommen', 278), ('gern bereit', 278), ('nächsten jahren', 277), ('schriftlich beantwortet', 277), ('allgemeine aussprache', 269), ('grunde genommen', 264), ('fragestellers schriftlich beantwortet', 263), ('fragen steht', 263), ('herr kollege jäger', 262), ('5 milliarden dm', 259), ('bundesregierung –', 256), ('letzten jahr', 251), ('nächste sitzung', 250), ('öffentlichen dienst', 248), ('ganz sicher', 247), ('letzten wochen', 245), ('deutschen bundesbahn', 245), ('herr wehner', 244), ('herr parlamentarischer staatssekretär', 243), ('verständnis dafür', 241)]\n"
     ]
    }
   ],
   "source": [
    "print(key_word_count(rake_keywords))"
   ]
  },
  {
   "cell_type": "code",
   "execution_count": 4,
   "metadata": {},
   "outputs": [],
   "source": []
  },
  {
   "cell_type": "code",
   "execution_count": 1,
   "metadata": {},
   "outputs": [
    {
     "name": "stdout",
     "output_type": "stream",
     "text": [
      "Translated(src=de, dest=en, text=mr staatssekretär, pronunciation=mr staatssekretär, extra_data=\"{'translat...\")\n"
     ]
    }
   ],
   "source": [
    "from googletrans import Translator\n",
    "translator = Translator()\n",
    "print(translator.translate('herr staatssekretär', dest=\"en\"))"
   ]
  },
  {
   "cell_type": "code",
   "execution_count": 8,
   "metadata": {},
   "outputs": [
    {
     "ename": "NameError",
     "evalue": "name 'Document' is not defined",
     "output_type": "error",
     "traceback": [
      "\u001b[1;31m---------------------------------------------------------------------------\u001b[0m",
      "\u001b[1;31mNameError\u001b[0m                                 Traceback (most recent call last)",
      "\u001b[1;32m<ipython-input-8-07bb707ebee8>\u001b[0m in \u001b[0;36m<module>\u001b[1;34m\u001b[0m\n\u001b[0;32m      1\u001b[0m def preprocess(documents: List[Document], lemmatize: bool = True, lower: bool = False,\n\u001b[0;32m      2\u001b[0m                \u001b[0mpos_filter\u001b[0m\u001b[1;33m:\u001b[0m \u001b[0mlist\u001b[0m \u001b[1;33m=\u001b[0m \u001b[1;32mNone\u001b[0m\u001b[1;33m,\u001b[0m \u001b[0mremove_stopwords\u001b[0m\u001b[1;33m:\u001b[0m \u001b[0mbool\u001b[0m \u001b[1;33m=\u001b[0m \u001b[1;32mFalse\u001b[0m\u001b[1;33m,\u001b[0m\u001b[1;33m\u001b[0m\u001b[1;33m\u001b[0m\u001b[0m\n\u001b[1;32m----> 3\u001b[1;33m                remove_punctuation: bool = False, lan: str = \"EN\"):\n\u001b[0m\u001b[0;32m      4\u001b[0m \u001b[1;33m\u001b[0m\u001b[0m\n\u001b[0;32m      5\u001b[0m     \u001b[1;32mdef\u001b[0m \u001b[0mtoken_representation\u001b[0m\u001b[1;33m(\u001b[0m\u001b[0mtoken\u001b[0m\u001b[1;33m)\u001b[0m\u001b[1;33m:\u001b[0m\u001b[1;33m\u001b[0m\u001b[1;33m\u001b[0m\u001b[0m\n",
      "\u001b[1;31mNameError\u001b[0m: name 'Document' is not defined"
     ]
    }
   ],
   "source": []
  },
  {
   "cell_type": "code",
   "execution_count": null,
   "metadata": {},
   "outputs": [],
   "source": []
  }
 ],
 "metadata": {
  "kernelspec": {
   "display_name": "ctm",
   "language": "python",
   "name": "ctm"
  },
  "language_info": {
   "codemirror_mode": {
    "name": "ipython",
    "version": 3
   },
   "file_extension": ".py",
   "mimetype": "text/x-python",
   "name": "python",
   "nbconvert_exporter": "python",
   "pygments_lexer": "ipython3",
   "version": "3.7.5"
  }
 },
 "nbformat": 4,
 "nbformat_minor": 4
}
